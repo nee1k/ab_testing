{
  "nbformat": 4,
  "nbformat_minor": 0,
  "metadata": {
    "colab": {
      "provenance": [],
      "authorship_tag": "ABX9TyMqh0GX0dubGRCb38d27JLZ",
      "include_colab_link": true
    },
    "kernelspec": {
      "name": "python3",
      "display_name": "Python 3"
    },
    "language_info": {
      "name": "python"
    }
  },
  "cells": [
    {
      "cell_type": "markdown",
      "metadata": {
        "id": "view-in-github",
        "colab_type": "text"
      },
      "source": [
        "<a href=\"https://colab.research.google.com/github/nee1k/ab_testing/blob/main/Population_Distributions.ipynb\" target=\"_parent\"><img src=\"https://colab.research.google.com/assets/colab-badge.svg\" alt=\"Open In Colab\"/></a>"
      ]
    },
    {
      "cell_type": "markdown",
      "source": [
        "## Binomial Distribution\n",
        "\n",
        "The Binomial distribution models the probability of exactly *k* successes in *n* independent trials, each with a probability *p* of success.\n",
        "\n",
        "**Formula:**\n",
        "\n",
        "$$\n",
        "P(X = k) = \\binom{n}{k} \\cdot p^k \\cdot (1 - p)^{n - k}\n",
        "$$\n",
        "\n",
        "**Example:**  \n",
        "Suppose we show an ad to 10 users (*n = 10*), each with a 20% chance (*p = 0.2*) of clicking.  \n",
        "What is the probability that exactly 3 users click the ad (*k = 3*)?\n"
      ],
      "metadata": {
        "id": "NOzQYXVzUGqt"
      }
    },
    {
      "cell_type": "code",
      "source": [
        "from math import comb\n",
        "\n",
        "# Parameters\n",
        "n = 10       # number of trials\n",
        "k = 3        # number of successes\n",
        "p = 0.2      # probability of success\n",
        "\n",
        "# Binomial probability calculation\n",
        "P_X_equals_k = comb(n, k) * (p ** k) * ((1 - p) ** (n - k))\n",
        "print(f\"P(X = {k}) = {P_X_equals_k:.3f}\")"
      ],
      "metadata": {
        "colab": {
          "base_uri": "https://localhost:8080/"
        },
        "id": "BNu8kqS-UHAr",
        "outputId": "a7c578ab-88f0-4b62-be2d-ee7e1358fc7e"
      },
      "execution_count": 5,
      "outputs": [
        {
          "output_type": "stream",
          "name": "stdout",
          "text": [
            "P(X = 3) = 0.201\n"
          ]
        }
      ]
    },
    {
      "cell_type": "markdown",
      "source": [
        "## Poisson Distribution\n",
        "\n",
        "The Poisson distribution models the probability of observing exactly *k* events in a fixed interval of time or space when the events occur independently and at a constant average rate *λ*.\n",
        "\n",
        "**Formula:**\n",
        "\n",
        "$$\n",
        "P(X = k) = \\frac{{\\lambda^k \\cdot e^{-\\lambda}}}{{k!}}\n",
        "$$\n",
        "\n",
        "**Example:**  \n",
        "On average, there are 4 comments posted per minute (λ = 4).  \n",
        "What is the probability of receiving exactly 6 comments in a minute (k = 6)?\n"
      ],
      "metadata": {
        "id": "Mi_jvzPBUP8A"
      }
    },
    {
      "cell_type": "code",
      "source": [
        "import math\n",
        "\n",
        "# Parameters\n",
        "λ = 4       # average number of comments per minute\n",
        "k = 6       # desired number of comments\n",
        "\n",
        "# Poisson probability calculation\n",
        "P_X_equals_k = (λ ** k) * math.exp(-λ) / math.factorial(k)\n",
        "print(f\"P(X = {k}) = {P_X_equals_k:.3f}\")\n"
      ],
      "metadata": {
        "colab": {
          "base_uri": "https://localhost:8080/"
        },
        "id": "MuUuErnPUPot",
        "outputId": "8f0b4eee-a2f5-4b32-9311-1b7129315dc9"
      },
      "execution_count": 6,
      "outputs": [
        {
          "output_type": "stream",
          "name": "stdout",
          "text": [
            "P(X = 6) = 0.104\n"
          ]
        }
      ]
    },
    {
      "cell_type": "markdown",
      "source": [
        "## Normal Distribution\n",
        "\n",
        "The Normal distribution is a continuous probability distribution with a bell-shaped curve, symmetric around the mean μ. It is commonly used to model naturally occurring variables such as user session duration.\n",
        "\n",
        "**Formula (Probability Density Function):**\n",
        "\n",
        "$$\n",
        "f(x) = \\frac{1}{\\sqrt{2\\pi\\sigma^2}} \\cdot \\exp\\left(-\\frac{(x - \\mu)^2}{2\\sigma^2}\\right)\n",
        "$$\n",
        "\n",
        "**Example:**  \n",
        "Suppose the time spent on Instagram per session follows a normal distribution with a mean (μ) of 25 minutes and standard deviation (σ) of 5 minutes.  \n",
        "What is the probability that a randomly selected session lasts less than 30 minutes?\n"
      ],
      "metadata": {
        "id": "aLlbNiUnU8xf"
      }
    },
    {
      "cell_type": "code",
      "source": [
        "from scipy.stats import norm\n",
        "\n",
        "# Parameters\n",
        "mu = 25      # mean session duration\n",
        "sigma = 5    # standard deviation\n",
        "x = 30       # time threshold\n",
        "\n",
        "# Probability that session is less than 30 minutes\n",
        "probability = norm.cdf(x, loc=mu, scale=sigma)\n",
        "print(f\"P(X < {x}) = {probability:.3f}\")\n"
      ],
      "metadata": {
        "colab": {
          "base_uri": "https://localhost:8080/"
        },
        "id": "h_NgHsRBUJ04",
        "outputId": "4e84d9b7-4bc7-4e49-b27a-c4fc14792f8b"
      },
      "execution_count": 7,
      "outputs": [
        {
          "output_type": "stream",
          "name": "stdout",
          "text": [
            "P(X < 30) = 0.841\n"
          ]
        }
      ]
    },
    {
      "cell_type": "markdown",
      "source": [
        "## Exponential Distribution\n",
        "\n",
        "The Exponential distribution models the time between **independent events** that occur at a **constant average rate** λ (lambda). It is useful for modeling \"time until\" events, such as user actions or server requests.\n",
        "\n",
        "**Formula (Probability Density Function):**\n",
        "\n",
        "$$\n",
        "f(x; \\lambda) = \\lambda e^{-\\lambda x}, \\quad x \\geq 0\n",
        "$$\n",
        "\n",
        "**Example:**  \n",
        "Let’s assume messages in a group chat arrive at an average rate of 2 messages per minute (λ = 2).  \n",
        "What is the probability that the next message will arrive in **less than 30 seconds (0.5 minutes)**?\n"
      ],
      "metadata": {
        "id": "1lgcYzxWVnwh"
      }
    },
    {
      "cell_type": "code",
      "source": [
        "from scipy.stats import expon\n",
        "\n",
        "# Parameters\n",
        "rate_lambda = 2   # average rate (messages per minute)\n",
        "x = 0.5           # time in minutes\n",
        "\n",
        "# Probability that next message arrives within 0.5 minutes\n",
        "probability = expon.cdf(x, scale=1/rate_lambda)\n",
        "print(f\"P(X < {x} minutes) = {probability:.3f}\")\n"
      ],
      "metadata": {
        "id": "rxKzqEn2U-8q",
        "outputId": "9a8c3354-0b5e-46ba-8ead-cffa4c89870f",
        "colab": {
          "base_uri": "https://localhost:8080/"
        }
      },
      "execution_count": 8,
      "outputs": [
        {
          "output_type": "stream",
          "name": "stdout",
          "text": [
            "P(X < 0.5 minutes) = 0.632\n"
          ]
        }
      ]
    },
    {
      "cell_type": "markdown",
      "source": [
        "## Uniform Distribution\n",
        "\n",
        "The Uniform distribution is used when **all outcomes in a range are equally likely**. This is often applied to randomized scheduling, simple simulations, and assumptions of equal likelihood.\n",
        "\n",
        "**Formula (Probability Density Function):**\n",
        "\n",
        "$$\n",
        "f(x) = \\frac{1}{b - a}, \\quad a \\leq x \\leq b\n",
        "$$\n",
        "\n",
        "**Example:**  \n",
        "A push notification can be sent at any random time between 1 PM and 2 PM (i.e., between minute 0 and 60).  \n",
        "What is the probability that a notification is sent within the **first 20 minutes**?\n"
      ],
      "metadata": {
        "id": "LzUkr6M_V6rq"
      }
    },
    {
      "cell_type": "code",
      "source": [
        "from scipy.stats import uniform\n",
        "\n",
        "# Parameters\n",
        "a = 0         # start of the interval (0 minutes past 1 PM)\n",
        "b = 60        # end of the interval (60 minutes = 2 PM)\n",
        "x = 20        # time threshold we're interested in\n",
        "\n",
        "# Probability that the event occurs before x minutes\n",
        "probability = uniform.cdf(x, loc=a, scale=b-a)\n",
        "print(f\"P(X < {x} minutes) = {probability:.3f}\")\n"
      ],
      "metadata": {
        "id": "6oCrJAkXVqJa",
        "outputId": "2f9630f6-a356-40f7-8700-108554faa437",
        "colab": {
          "base_uri": "https://localhost:8080/"
        }
      },
      "execution_count": 9,
      "outputs": [
        {
          "output_type": "stream",
          "name": "stdout",
          "text": [
            "P(X < 20 minutes) = 0.333\n"
          ]
        }
      ]
    },
    {
      "cell_type": "code",
      "source": [],
      "metadata": {
        "id": "EOv8BdskV8fg"
      },
      "execution_count": null,
      "outputs": []
    }
  ]
}