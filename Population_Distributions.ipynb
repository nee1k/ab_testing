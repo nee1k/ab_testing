{
  "nbformat": 4,
  "nbformat_minor": 0,
  "metadata": {
    "colab": {
      "provenance": [],
      "authorship_tag": "ABX9TyMHsc5Gnbl2PEQql8k33fbf",
      "include_colab_link": true
    },
    "kernelspec": {
      "name": "python3",
      "display_name": "Python 3"
    },
    "language_info": {
      "name": "python"
    }
  },
  "cells": [
    {
      "cell_type": "markdown",
      "metadata": {
        "id": "view-in-github",
        "colab_type": "text"
      },
      "source": [
        "<a href=\"https://colab.research.google.com/github/nee1k/ab_testing/blob/main/Population_Distributions.ipynb\" target=\"_parent\"><img src=\"https://colab.research.google.com/assets/colab-badge.svg\" alt=\"Open In Colab\"/></a>"
      ]
    },
    {
      "cell_type": "markdown",
      "source": [
        "## Binomial Distribution\n",
        "\n",
        "The Binomial distribution models the probability of exactly *k* successes in *n* independent trials, each with a probability *p* of success.\n",
        "\n",
        "**Formula:**\n",
        "\n",
        "$$\n",
        "P(X = k) = \\binom{n}{k} \\cdot p^k \\cdot (1 - p)^{n - k}\n",
        "$$\n",
        "\n",
        "**Example:**  \n",
        "Suppose we show an ad to 10 users (*n = 10*), each with a 20% chance (*p = 0.2*) of clicking.  \n",
        "What is the probability that exactly 3 users click the ad (*k = 3*)?\n"
      ],
      "metadata": {
        "id": "NOzQYXVzUGqt"
      }
    },
    {
      "cell_type": "code",
      "source": [
        "from math import comb\n",
        "\n",
        "# Parameters\n",
        "n = 10       # number of trials\n",
        "k = 3        # number of successes\n",
        "p = 0.2      # probability of success\n",
        "\n",
        "# Binomial probability calculation\n",
        "P_X_equals_k = comb(n, k) * (p ** k) * ((1 - p) ** (n - k))\n",
        "print(f\"P(X={k}) = {P_X_equals_k:.3f}\")"
      ],
      "metadata": {
        "colab": {
          "base_uri": "https://localhost:8080/"
        },
        "id": "BNu8kqS-UHAr",
        "outputId": "e1914398-aed8-4b44-e34e-a9ffb6777b15"
      },
      "execution_count": 1,
      "outputs": [
        {
          "output_type": "stream",
          "name": "stdout",
          "text": [
            "P(X=3) = 0.201\n"
          ]
        }
      ]
    },
    {
      "cell_type": "markdown",
      "source": [
        "## Poisson Distribution\n",
        "\n",
        "The Poisson distribution models the probability of observing exactly *k* events in a fixed interval of time or space when the events occur independently and at a constant average rate *λ*.\n",
        "\n",
        "**Formula:**\n",
        "\n",
        "$$\n",
        "P(X = k) = \\frac{{\\lambda^k \\cdot e^{-\\lambda}}}{{k!}}\n",
        "$$\n",
        "\n",
        "**Example:**  \n",
        "On average, there are 4 comments posted per minute (λ = 4).  \n",
        "What is the probability of receiving exactly 6 comments in a minute (k = 6)?\n"
      ],
      "metadata": {
        "id": "Mi_jvzPBUP8A"
      }
    },
    {
      "cell_type": "code",
      "source": [
        "import math\n",
        "\n",
        "# Parameters\n",
        "λ = 4       # average number of comments per minute\n",
        "k = 6       # desired number of comments\n",
        "\n",
        "# Poisson probability calculation\n",
        "P_X_equals_k = (λ ** k) * math.exp(-λ) / math.factorial(k)\n",
        "print(f\"P(X={k}) = {P_X_equals_k:.3f}\")\n"
      ],
      "metadata": {
        "colab": {
          "base_uri": "https://localhost:8080/"
        },
        "id": "MuUuErnPUPot",
        "outputId": "debb34f0-8e2e-40ec-ae84-7ffd7a90ff09"
      },
      "execution_count": 3,
      "outputs": [
        {
          "output_type": "stream",
          "name": "stdout",
          "text": [
            "P(X=6) = 0.104\n"
          ]
        }
      ]
    },
    {
      "cell_type": "code",
      "source": [],
      "metadata": {
        "id": "h_NgHsRBUJ04"
      },
      "execution_count": null,
      "outputs": []
    }
  ]
}